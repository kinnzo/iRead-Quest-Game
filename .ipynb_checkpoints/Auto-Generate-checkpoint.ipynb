{
 "cells": [
  {
   "cell_type": "code",
   "execution_count": 1,
   "metadata": {},
   "outputs": [],
   "source": [
    "import pandas as pd\n",
    "import xml.etree.ElementTree as ET\n",
    "from xml.dom import minidom as minidom"
   ]
  },
  {
   "cell_type": "code",
   "execution_count": 6,
   "metadata": {},
   "outputs": [],
   "source": [
    "def addrow(root,row):\n",
    "    room = ET.Element(\"object\", name=row[0])\n",
    "    thetail = \"\\n\"\n",
    "    room.tail = thetail\n",
    "    in4 = ET.Element(\"inherit\", name=\"editor_room\")\n",
    "    in4.tail = thetail\n",
    "    des = ET.Element(\"description\")\n",
    "    des.tail=thetail\n",
    "    room.append(in4)\n",
    "    room.append(des)\n",
    "    key = \"./object[@name=\\\"\"+row[0]+\"\\\"]\"\n",
    "    rflag = 0\n",
    "    for rooms in root.findall(key):\n",
    "        print(rooms.attrib)\n",
    "        print(rooms.tag)\n",
    "        tags = rooms.getchildren()\n",
    "        for t in tags:\n",
    "            print(t.attrib)\n",
    "        if tags[0].attrib['name'] == \"editor_room\":\n",
    "            room = rooms\n",
    "            root.remove(room)\n",
    "    des = room.find(\"description\")\n",
    "    room.remove(des)\n",
    "    if des.text is not None:\n",
    "        des.text = des.text + \"&lt;br/&gt;abc.png\"\n",
    "    else:\n",
    "        des.text = \"Your challenge is to find:&lt;br/&gt;abc.png\"\n",
    "    room.append(des)\n",
    "    obj = ET.Element(\"object\", name=row[1])\n",
    "    obj.tail = thetail\n",
    "    in1 = ET.Element(\"inherit\", name=\"editor_object\")\n",
    "    in1.tail = thetail\n",
    "    in2 = ET.Element(\"inherit\", name=\"surface\")\n",
    "    in2.tail = thetail\n",
    "    fc = ET.Element(\"feature_container\")\n",
    "    fc.tail = thetail\n",
    "    hc = ET.Element(\"hidechildren\")\n",
    "    hc.tail = thetail\n",
    "    lc = ET.Element(\"listchildren\")\n",
    "    lc.tail = thetail\n",
    "    subobj = ET.Element(\"object\", name=row[2])\n",
    "    subobj.tail = thetail\n",
    "    in3 = ET.Element(\"inherit\", name=\"editor_object\")\n",
    "    in3.tail = thetail\n",
    "    tk = ET.Element(\"take\")\n",
    "    tk.tail = thetail\n",
    "    tkmsg = ET.Element(\"takemsg\")\n",
    "    tkmsg.tail = thetail\n",
    "    tkmsg.text = \"You picked up the \"+row[2]+\".\"\n",
    "    subobj.append(in3)\n",
    "    subobj.append(tk)\n",
    "    subobj.append(tkmsg)\n",
    "    obj.append(in1)\n",
    "    obj.append(in2)\n",
    "    obj.append(fc)\n",
    "    obj.append(hc)\n",
    "    obj.append(lc)\n",
    "    obj.append(subobj)\n",
    "    room.append(obj)\n",
    "    root.append(room)\n",
    "    tree.write(\"ReQuest.aslx\")"
   ]
  },
  {
   "cell_type": "code",
   "execution_count": 7,
   "metadata": {},
   "outputs": [
    {
     "name": "stdout",
     "output_type": "stream",
     "text": [
      "{'name': 'meadowT'}\n",
      "object\n",
      "{'name': 'editor_room'}\n",
      "{}\n",
      "{'name': 'Grass'}\n"
     ]
    }
   ],
   "source": [
    "db = pd.read_csv('myedit.csv')\n",
    "tree = ET.parse('ReQuest.aslx')\n",
    "root = tree.getroot()\n",
    "for i in range(len(db)):\n",
    "    addrow(root,db.iloc[i])"
   ]
  },
  {
   "cell_type": "code",
   "execution_count": 136,
   "metadata": {},
   "outputs": [
    {
     "name": "stdout",
     "output_type": "stream",
     "text": [
      "Not found\n"
     ]
    }
   ],
   "source": []
  },
  {
   "cell_type": "code",
   "execution_count": null,
   "metadata": {},
   "outputs": [],
   "source": []
  }
 ],
 "metadata": {
  "kernelspec": {
   "display_name": "Python 3",
   "language": "python",
   "name": "python3"
  },
  "language_info": {
   "codemirror_mode": {
    "name": "ipython",
    "version": 3
   },
   "file_extension": ".py",
   "mimetype": "text/x-python",
   "name": "python",
   "nbconvert_exporter": "python",
   "pygments_lexer": "ipython3",
   "version": "3.6.4"
  }
 },
 "nbformat": 4,
 "nbformat_minor": 2
}
